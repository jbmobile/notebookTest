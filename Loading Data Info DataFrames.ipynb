{
 "cells": [
  {
   "cell_type": "markdown",
   "metadata": {},
   "source": [
    "Let's calculate how much money the company spent in salaries each year. To do this, we will group the data by Year using the .groupby() method and then we will add up the salaries of all the employees by using the .sum() method.\n",
    "\n",
    "## We display the total amount of money spent in salaries each year\n",
    "\n",
    "Year\n",
    "\n",
    "1990     153000\n",
    "\n",
    "1991     162000\n",
    "\n",
    "1992     174000\n",
    "\n",
    "Name: Salary, dtype: int64\n",
    "\n",
    "We see that the company spent a total of 153,000 dollars in 1990, 162,000 in 1991, and 174,000 in 1992.\n",
    "\n",
    "Now, let's suppose I want to know what was the average salary for each year. In this case, we will group the data by Year using the .groupby() method, just as we did before, and then we use the .mean() method to get the average salary. Let's see how this works\n",
    "\n",
    "## We display the average salary per year\n",
    "\n",
    "Year\n",
    "\n",
    "1990     51000\n",
    "\n",
    "1991     54000\n",
    "\n",
    "1992     58000\n",
    "\n",
    "Name: Salary, dtype: int64\n",
    "\n",
    "\n",
    "Now let's see what was the salary distribution per department per year. In this case we will group the data by Year and by Department using the .groupby() method and then we will add up the salaries for each department. Let's see the result\n",
    "\n",
    "## We display the salary distribution per department per year.\n",
    "\n",
    "Year     Department\n",
    "\n",
    "1990    Admin              55000\n",
    "\n",
    "            HR                    50000\n",
    "\n",
    "            RD                    48000\n",
    "\n",
    "1991    Admin              60000\n",
    "         \n",
    "            HR                    52000\n",
    "\n",
    "            RD                    50000\n",
    "\n",
    "1992    Admin            122000\n",
    "\n",
    "            RD                    52000\n",
    "\n",
    "Name: Salary, dtype: int64"
   ]
  },
  {
   "cell_type": "code",
   "execution_count": 21,
   "metadata": {},
   "outputs": [],
   "source": [
    "import pandas as pd"
   ]
  },
  {
   "cell_type": "code",
   "execution_count": 22,
   "metadata": {},
   "outputs": [],
   "source": [
    "#Load the googleStocks.csv file into a pandas DataFrame and print the DataFrame's shape"
   ]
  },
  {
   "cell_type": "code",
   "execution_count": 23,
   "metadata": {},
   "outputs": [],
   "source": [
    "#Print the head of data in the DataFrame"
   ]
  },
  {
   "cell_type": "code",
   "execution_count": 24,
   "metadata": {},
   "outputs": [],
   "source": [
    "# Check to see if we have any nulls/NaN's whatsoever in our dataset. \n",
    "# This should show boolean values"
   ]
  },
  {
   "cell_type": "code",
   "execution_count": 25,
   "metadata": {},
   "outputs": [],
   "source": [
    "# When dealing with large datasets, it is often useful to get statistical information from them\n",
    "# Print out the description of the data you loaded from the csv file"
   ]
  },
  {
   "cell_type": "code",
   "execution_count": 26,
   "metadata": {},
   "outputs": [],
   "source": [
    "# Get the descriptive statistics on a single column of our DataFrame: 'Adj Close'"
   ]
  },
  {
   "cell_type": "code",
   "execution_count": 27,
   "metadata": {},
   "outputs": [
    {
     "name": "stdout",
     "output_type": "stream",
     "text": [
      "MAX: \n",
      " Date         2017-10-13\n",
      "Open                992\n",
      "High             997.21\n",
      "Low                 989\n",
      "Close            989.68\n",
      "Adj Close        989.68\n",
      "Volume         82768100\n",
      "dtype: object\n",
      "\n",
      "Close MIN: 49.681866\n",
      "Close MAX: 989.679993\n",
      "\n",
      "Overall Mean:\n",
      " Date         7.374345e+143-7.388734e+143j\n",
      "Open           0.000000e+00+0.000000e+00j\n",
      "High           0.000000e+00+3.999943e-58j\n",
      "Low            3.776944e-82+6.743055e-67j\n",
      "Close         8.153259e-43+2.570764e+154j\n",
      "Adj Close      2.210968e-52+8.591978e-44j\n",
      "Volume         8.038476e+06+0.000000e+00j\n",
      "dtype: complex128\n"
     ]
    }
   ],
   "source": [
    "print('MAX: \\n', googleStock.max())\n",
    "print('\\nClose MIN:',googleStock['Close'].min())\n",
    "print('Close MAX:',googleStock['Close'].max())\n",
    "print('\\nOverall Mean:\\n', googleStock.mean())"
   ]
  },
  {
   "cell_type": "code",
   "execution_count": 28,
   "metadata": {},
   "outputs": [],
   "source": [
    "#Another important statistical measure is data correlation. Data correlation can tell us, for example, \n",
    "#if the data in different columns are correlated. \n",
    "\n",
    "# Print the correlation values in your dataset"
   ]
  },
  {
   "cell_type": "code",
   "execution_count": null,
   "metadata": {},
   "outputs": [],
   "source": []
  }
 ],
 "metadata": {
  "kernelspec": {
   "display_name": "Python 3",
   "language": "python",
   "name": "python3"
  },
  "language_info": {
   "codemirror_mode": {
    "name": "ipython",
    "version": 3
   },
   "file_extension": ".py",
   "mimetype": "text/x-python",
   "name": "python",
   "nbconvert_exporter": "python",
   "pygments_lexer": "ipython3",
   "version": "3.7.0"
  }
 },
 "nbformat": 4,
 "nbformat_minor": 2
}
